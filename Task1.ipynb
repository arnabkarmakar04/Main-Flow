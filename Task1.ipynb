{
 "cells": [
  {
   "cell_type": "markdown",
   "metadata": {},
   "source": [
    "Creating List and performing operations on it"
   ]
  },
  {
   "cell_type": "code",
   "execution_count": 1,
   "metadata": {},
   "outputs": [
    {
     "name": "stdout",
     "output_type": "stream",
     "text": [
      "['Arnab', 20, 50.0, True]\n"
     ]
    },
    {
     "data": {
      "text/plain": [
       "list"
      ]
     },
     "execution_count": 1,
     "metadata": {},
     "output_type": "execute_result"
    }
   ],
   "source": [
    "list = ['Arnab', 20, 50.0, True]\n",
    "print(list)\n",
    "type(list) #checking the type to confirm"
   ]
  },
  {
   "cell_type": "code",
   "execution_count": 2,
   "metadata": {},
   "outputs": [
    {
     "name": "stdout",
     "output_type": "stream",
     "text": [
      "['Arnab', 20, 50.0, True, 30]\n"
     ]
    }
   ],
   "source": [
    "list.append(30) #adding to the end\n",
    "print(list)"
   ]
  },
  {
   "cell_type": "code",
   "execution_count": 3,
   "metadata": {},
   "outputs": [
    {
     "name": "stdout",
     "output_type": "stream",
     "text": [
      "['Arnab', 'Karmakar', 20, 50.0, True, 30]\n"
     ]
    }
   ],
   "source": [
    "list.insert(1, 'Karmakar') #Adding at a specific position\n",
    "print(list)"
   ]
  },
  {
   "cell_type": "code",
   "execution_count": 4,
   "metadata": {},
   "outputs": [
    {
     "name": "stdout",
     "output_type": "stream",
     "text": [
      "['Arnab', 'Karmakar', 20, 50.0, True]\n"
     ]
    }
   ],
   "source": [
    "list.remove(30)  #Removing elements by value\n",
    "print(list)"
   ]
  },
  {
   "cell_type": "code",
   "execution_count": 5,
   "metadata": {},
   "outputs": [
    {
     "name": "stdout",
     "output_type": "stream",
     "text": [
      "['Arnab', 'Karmakar', 20, True]\n",
      "50.0\n"
     ]
    }
   ],
   "source": [
    "popped_item = list.pop(3)  #removing items by index\n",
    "print(list)\n",
    "\n",
    "print(popped_item)"
   ]
  },
  {
   "cell_type": "code",
   "execution_count": 6,
   "metadata": {},
   "outputs": [
    {
     "name": "stdout",
     "output_type": "stream",
     "text": [
      "['Arnab', 'Karmakar', 'Data Analyst', True]\n"
     ]
    }
   ],
   "source": [
    "list[2] = \"Data Analyst\"  #modifying elements by index\n",
    "print(list)"
   ]
  },
  {
   "cell_type": "markdown",
   "metadata": {},
   "source": [
    "Creating a Dictionary and performing operations"
   ]
  },
  {
   "cell_type": "code",
   "execution_count": 7,
   "metadata": {},
   "outputs": [
    {
     "name": "stdout",
     "output_type": "stream",
     "text": [
      "{'name': 'Arnab', 'age': 20, 'contact': '+91 62xxxxxx55', 'dist': 'Murshidabad', 'college': 'NSHM Durgapur'}\n"
     ]
    },
    {
     "data": {
      "text/plain": [
       "dict"
      ]
     },
     "execution_count": 7,
     "metadata": {},
     "output_type": "execute_result"
    }
   ],
   "source": [
    "dict = {'name': 'Arnab',\n",
    "        'age': 20,\n",
    "        'contact': '+91 62xxxxxx55',\n",
    "        'dist': 'Murshidabad',\n",
    "        'college': 'NSHM Durgapur'\n",
    "        }\n",
    "print(dict)\n",
    "type(dict) #checking the type to confirm\n"
   ]
  },
  {
   "cell_type": "code",
   "execution_count": 8,
   "metadata": {},
   "outputs": [
    {
     "name": "stdout",
     "output_type": "stream",
     "text": [
      "{'name': 'Arnab', 'age': 20, 'contact': '+91 62xxxxxx55', 'dist': 'Murshidabad', 'college': 'NSHM Durgapur', 'state': 'West Bengal'}\n"
     ]
    }
   ],
   "source": [
    "dict['state'] = 'West Bengal'  #adding elements in dictionary\n",
    "print(dict)"
   ]
  },
  {
   "cell_type": "code",
   "execution_count": 9,
   "metadata": {},
   "outputs": [
    {
     "name": "stdout",
     "output_type": "stream",
     "text": [
      "dict_keys(['name', 'age', 'contact', 'dist', 'college', 'state'])\n",
      "Arnab\n"
     ]
    }
   ],
   "source": [
    "print(dict.keys())\n",
    "\n",
    "print(dict['name']) #accessing keys from dictionary"
   ]
  },
  {
   "cell_type": "code",
   "execution_count": 10,
   "metadata": {},
   "outputs": [
    {
     "name": "stdout",
     "output_type": "stream",
     "text": [
      "{'name': 'Arnab', 'age': 20, 'contact': '+91 62xxxxxx55', 'dist': 'Murshidabad', 'state': 'West Bengal'}\n",
      "NSHM Durgapur\n"
     ]
    }
   ],
   "source": [
    "popped_key = dict.pop('college')  #removing key from the dictionary\n",
    "print(dict)\n",
    "\n",
    "print(popped_key)"
   ]
  },
  {
   "cell_type": "code",
   "execution_count": 11,
   "metadata": {},
   "outputs": [
    {
     "name": "stdout",
     "output_type": "stream",
     "text": [
      "{'name': 'Arnab Karmakar', 'age': 21, 'contact': '+91 62xxxxxx55', 'dist': 'Murshidabad', 'state': 'West Bengal'}\n"
     ]
    }
   ],
   "source": [
    "dict['name'] = 'Arnab Karmakar'\n",
    "dict['age'] = 21 #updating keys on dictionary\n",
    "print(dict)"
   ]
  },
  {
   "cell_type": "markdown",
   "metadata": {},
   "source": [
    "Creating a set and performing operations"
   ]
  },
  {
   "cell_type": "code",
   "execution_count": 12,
   "metadata": {},
   "outputs": [
    {
     "name": "stdout",
     "output_type": "stream",
     "text": [
      "{1, 2, 3, 4, 5, 6, 7}\n"
     ]
    },
    {
     "data": {
      "text/plain": [
       "set"
      ]
     },
     "execution_count": 12,
     "metadata": {},
     "output_type": "execute_result"
    }
   ],
   "source": [
    "set = {1, 2, 3, 4, 5, 6, 7}\n",
    "print(set)\n",
    "type(set)  #checking the type to confirm"
   ]
  },
  {
   "cell_type": "code",
   "execution_count": 13,
   "metadata": {},
   "outputs": [
    {
     "name": "stdout",
     "output_type": "stream",
     "text": [
      "{1, 2, 3, 4, 5, 6, 7, 8}\n",
      "{1, 2, 3, 4, 5, 6, 7, 8, 9, 10, 12}\n"
     ]
    }
   ],
   "source": [
    "set.add(8) #adding element in set (type 1)\n",
    "print(set)\n",
    "\n",
    "set.update([9, 10, 12]) #type 2\n",
    "print(set)"
   ]
  },
  {
   "cell_type": "code",
   "execution_count": 14,
   "metadata": {},
   "outputs": [
    {
     "name": "stdout",
     "output_type": "stream",
     "text": [
      "{1, 2, 3, 4, 5, 6, 7, 8, 9, 10}\n",
      "{2, 3, 4, 5, 6, 7, 8, 9, 10}\n",
      "1\n"
     ]
    }
   ],
   "source": [
    "set.remove(12) #removed specific element\n",
    "print(set)\n",
    "\n",
    "popped_element = set.pop() #pop any element from set\n",
    "print(set)\n",
    "print(popped_element)"
   ]
  },
  {
   "cell_type": "code",
   "execution_count": null,
   "metadata": {},
   "outputs": [],
   "source": []
  }
 ],
 "metadata": {
  "kernelspec": {
   "display_name": "Python 3",
   "language": "python",
   "name": "python3"
  },
  "language_info": {
   "codemirror_mode": {
    "name": "ipython",
    "version": 3
   },
   "file_extension": ".py",
   "mimetype": "text/x-python",
   "name": "python",
   "nbconvert_exporter": "python",
   "pygments_lexer": "ipython3",
   "version": "3.12.3"
  }
 },
 "nbformat": 4,
 "nbformat_minor": 2
}
